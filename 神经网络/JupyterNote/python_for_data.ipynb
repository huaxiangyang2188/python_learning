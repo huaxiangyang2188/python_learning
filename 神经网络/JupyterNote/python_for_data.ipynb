{
 "cells": [
  {
   "cell_type": "code",
   "execution_count": 3,
   "metadata": {},
   "outputs": [
    {
     "data": {
      "text/plain": [
       "5"
      ]
     },
     "execution_count": 3,
     "metadata": {},
     "output_type": "execute_result"
    }
   ],
   "source": [
    "a = 5\n",
    "a"
   ]
  },
  {
   "cell_type": "code",
   "execution_count": null,
   "metadata": {},
   "outputs": [],
   "source": []
  },
  {
   "cell_type": "code",
   "execution_count": null,
   "metadata": {},
   "outputs": [
    {
     "data": {
      "text/plain": [
       "{0: -1.187064184900298,\n",
       " 1: -0.945132272467715,\n",
       " 2: -0.6408876548021791,\n",
       " 3: 0.25636228857226123,\n",
       " 4: -0.8585716542974271,\n",
       " 5: 1.2397165945698225,\n",
       " 6: -0.7488857748092287}"
      ]
     },
     "execution_count": 1,
     "metadata": {},
     "output_type": "execute_result"
    }
   ],
   "source": [
    "import numpy as np\n",
    "data = {i : np.random.randn() for i in range(7)}\n",
    "data\n",
    "\n"
   ]
  },
  {
   "cell_type": "code",
   "execution_count": null,
   "metadata": {},
   "outputs": [
    {
     "data": {
      "text/plain": [
       "datetime.datetime(2024, 11, 19, 15, 31, 51, 362195)"
      ]
     },
     "execution_count": 5,
     "metadata": {},
     "output_type": "execute_result"
    }
   ],
   "source": [
    "b = [1,2,3]\n",
    "b.sort  \n",
    "import datetime\n",
    "datetime.datetime.now() \n",
    "                                 "
   ]
  },
  {
   "cell_type": "code",
   "execution_count": 7,
   "metadata": {},
   "outputs": [
    {
     "name": "stdout",
     "output_type": "stream",
     "text": [
      "\u001b[1;31mSignature:\u001b[0m \u001b[0mprint\u001b[0m\u001b[1;33m(\u001b[0m\u001b[1;33m*\u001b[0m\u001b[0margs\u001b[0m\u001b[1;33m,\u001b[0m \u001b[0msep\u001b[0m\u001b[1;33m=\u001b[0m\u001b[1;34m' '\u001b[0m\u001b[1;33m,\u001b[0m \u001b[0mend\u001b[0m\u001b[1;33m=\u001b[0m\u001b[1;34m'\\n'\u001b[0m\u001b[1;33m,\u001b[0m \u001b[0mfile\u001b[0m\u001b[1;33m=\u001b[0m\u001b[1;32mNone\u001b[0m\u001b[1;33m,\u001b[0m \u001b[0mflush\u001b[0m\u001b[1;33m=\u001b[0m\u001b[1;32mFalse\u001b[0m\u001b[1;33m)\u001b[0m\u001b[1;33m\u001b[0m\u001b[1;33m\u001b[0m\u001b[0m\n",
      "\u001b[1;31mDocstring:\u001b[0m\n",
      "Prints the values to a stream, or to sys.stdout by default.\n",
      "\n",
      "sep\n",
      "  string inserted between values, default a space.\n",
      "end\n",
      "  string appended after the last value, default a newline.\n",
      "file\n",
      "  a file-like object (stream); defaults to the current sys.stdout.\n",
      "flush\n",
      "  whether to forcibly flush the stream.\n",
      "\u001b[1;31mType:\u001b[0m      builtin_function_or_method"
     ]
    }
   ],
   "source": [
    "b = [1,2,3]\n",
    "b?\n",
    "print?"
   ]
  },
  {
   "cell_type": "code",
   "execution_count": 11,
   "metadata": {},
   "outputs": [
    {
     "data": {
      "text/plain": [
       "5"
      ]
     },
     "execution_count": 11,
     "metadata": {},
     "output_type": "execute_result"
    }
   ],
   "source": [
    "def add_numbers(a , b):\n",
    "    \"\"\"Add two numbers together\"\"\"\n",
    "    return a + b\n",
    "add_numbers(2,3)\n"
   ]
  },
  {
   "cell_type": "code",
   "execution_count": 15,
   "metadata": {},
   "outputs": [
    {
     "data": {
      "text/plain": [
       "[1, 2, 3, 4]"
      ]
     },
     "execution_count": 15,
     "metadata": {},
     "output_type": "execute_result"
    }
   ],
   "source": [
    "def append_element(some_list, element):\n",
    "    some_list.append(element)\n",
    "data = [1,2,3]\n",
    "append_element(data,4)\n",
    "data"
   ]
  },
  {
   "cell_type": "code",
   "execution_count": 20,
   "metadata": {},
   "outputs": [
    {
     "data": {
      "text/plain": [
       "True"
      ]
     },
     "execution_count": 20,
     "metadata": {},
     "output_type": "execute_result"
    }
   ],
   "source": [
    "a = 5\n",
    "type(a)\n",
    "a = '5'\n",
    "type(a)\n",
    "isinstance(a,(int,str))"
   ]
  },
  {
   "cell_type": "code",
   "execution_count": 30,
   "metadata": {},
   "outputs": [
    {
     "ename": "ImportError",
     "evalue": "cannot import name 'g' from 'some_module' (c:\\Users\\lenovo\\Desktop\\python_project\\神经网络\\JupyterNote\\some_module.py)",
     "output_type": "error",
     "traceback": [
      "\u001b[1;31m---------------------------------------------------------------------------\u001b[0m",
      "\u001b[1;31mImportError\u001b[0m                               Traceback (most recent call last)",
      "Cell \u001b[1;32mIn[30], line 2\u001b[0m\n\u001b[0;32m      1\u001b[0m \u001b[38;5;28;01mimport\u001b[39;00m \u001b[38;5;21;01msome_module\u001b[39;00m\n\u001b[1;32m----> 2\u001b[0m \u001b[38;5;28;01mfrom\u001b[39;00m \u001b[38;5;21;01msome_module\u001b[39;00m \u001b[38;5;28;01mimport\u001b[39;00m g ,PI\n\u001b[0;32m      3\u001b[0m result \u001b[38;5;241m=\u001b[39m g(\u001b[38;5;241m5\u001b[39m, PI)\n",
      "\u001b[1;31mImportError\u001b[0m: cannot import name 'g' from 'some_module' (c:\\Users\\lenovo\\Desktop\\python_project\\神经网络\\JupyterNote\\some_module.py)"
     ]
    }
   ],
   "source": [
    "import some_module\n",
    "from some_module import g ,PI\n",
    "result = g(5, PI)"
   ]
  },
  {
   "cell_type": "code",
   "execution_count": 5,
   "metadata": {},
   "outputs": [
    {
     "data": {
      "text/plain": [
       "['two', 'one', (88, 99)]"
      ]
     },
     "execution_count": 5,
     "metadata": {},
     "output_type": "execute_result"
    }
   ],
   "source": [
    "a = [1 ,2, 3]\n",
    "b = a\n",
    "c = list(a)\n",
    "a is b \n",
    "a is not c \n",
    "a_list = ['two', 2, [4,5]]\n",
    "a_list[2] = (88,99)\n",
    "a_list\n",
    "a_list[1] = \"one\"\n",
    "a_list"
   ]
  },
  {
   "cell_type": "code",
   "execution_count": 11,
   "metadata": {},
   "outputs": [
    {
     "ename": "TypeError",
     "evalue": "'str' object does not support item assignment",
     "output_type": "error",
     "traceback": [
      "\u001b[1;31m---------------------------------------------------------------------------\u001b[0m",
      "\u001b[1;31mTypeError\u001b[0m                                 Traceback (most recent call last)",
      "Cell \u001b[1;32mIn[11], line 13\u001b[0m\n\u001b[0;32m     11\u001b[0m c\u001b[38;5;241m.\u001b[39mcount(\u001b[38;5;124m'\u001b[39m\u001b[38;5;130;01m\\n\u001b[39;00m\u001b[38;5;124m'\u001b[39m)\n\u001b[0;32m     12\u001b[0m a \u001b[38;5;241m=\u001b[39m \u001b[38;5;124m\"\u001b[39m\u001b[38;5;124mhello world\u001b[39m\u001b[38;5;124m\"\u001b[39m\n\u001b[1;32m---> 13\u001b[0m \u001b[43ma\u001b[49m\u001b[43m[\u001b[49m\u001b[38;5;241;43m3\u001b[39;49m\u001b[43m]\u001b[49m \u001b[38;5;241m=\u001b[39m \u001b[38;5;124m'\u001b[39m\u001b[38;5;124mf\u001b[39m\u001b[38;5;124m'\u001b[39m\n\u001b[0;32m     14\u001b[0m a\n",
      "\u001b[1;31mTypeError\u001b[0m: 'str' object does not support item assignment"
     ]
    }
   ],
   "source": [
    "ival = 176890\n",
    "ival ** 5\n",
    "fval =7.243\n",
    "favl2 = 6.78e-5\n",
    "3/2\n",
    "3//2\n",
    "c = \"\"\"\n",
    "This is a long string \n",
    "that will not fit on my screen.\n",
    "\"\"\"\n",
    "c.count('\\n')\n",
    "a = \"hello world\"\n",
    "a[3] = 'f'\n",
    "a\n",
    "\n",
    "\n"
   ]
  },
  {
   "cell_type": "code",
   "execution_count": 15,
   "metadata": {},
   "outputs": [
    {
     "name": "stdout",
     "output_type": "stream",
     "text": [
      "5.5\n"
     ]
    },
    {
     "data": {
      "text/plain": [
       "'python5.5'"
      ]
     },
     "execution_count": 15,
     "metadata": {},
     "output_type": "execute_result"
    }
   ],
   "source": [
    "a = 5.5\n",
    "b = str(a)\n",
    "print(b)\n",
    "c = 'python'\n",
    "list(c)\n",
    "c[:2]\n",
    "c + b\n"
   ]
  },
  {
   "cell_type": "code",
   "execution_count": 21,
   "metadata": {},
   "outputs": [
    {
     "data": {
      "text/plain": [
       "True"
      ]
     },
     "execution_count": 21,
     "metadata": {},
     "output_type": "execute_result"
    }
   ],
   "source": [
    "val = 'espanol'\n",
    "val\n",
    "val_utf8 = val.encode('utf-8')\n",
    "val_utf8\n",
    "type(val_utf8)\n",
    "s = '3.14159'\n",
    "fval = float(s)\n",
    "type(fval)\n",
    "int(fval)\n",
    "bool(fval)"
   ]
  },
  {
   "cell_type": "code",
   "execution_count": 33,
   "metadata": {},
   "outputs": [
    {
     "data": {
      "text/plain": [
       "datetime.datetime(2030, 11, 14, 12, 23)"
      ]
     },
     "execution_count": 33,
     "metadata": {},
     "output_type": "execute_result"
    }
   ],
   "source": [
    "from datetime import datetime,date,time\n",
    "dt = datetime(2015, 7, 18, 14, 33)\n",
    "dt.day\n",
    "dt.time\n",
    "dt.minute\n",
    "dt.date()\n",
    "dt.time()\n",
    "dt.strftime('%Y-%m-%d %H:%M')\n",
    "date.today()\n",
    "datetime.strptime('20241121' ,'%Y%m%d')\n",
    "dt.replace(year=2090,minute=0)\n",
    "dt2 = datetime(2030,11,14,12,23)\n",
    "delta = dt2 - dt\n",
    "delta\n",
    "dt + delta"
   ]
  },
  {
   "cell_type": "code",
   "execution_count": 36,
   "metadata": {},
   "outputs": [
    {
     "name": "stdout",
     "output_type": "stream",
     "text": [
      "Positive and large\n"
     ]
    }
   ],
   "source": [
    "x = 5\n",
    "if x < 0:\n",
    "    print(\"negative\")\n",
    "elif x == 0:\n",
    "    pass\n",
    "elif 0<x<5:\n",
    "    print('Positive but small')\n",
    "else:\n",
    "    print(\"Positive and large\")\n"
   ]
  },
  {
   "cell_type": "code",
   "execution_count": 40,
   "metadata": {},
   "outputs": [
    {
     "name": "stdout",
     "output_type": "stream",
     "text": [
      "0 0\n",
      "1 0\n",
      "1 1\n",
      "2 0\n",
      "2 1\n",
      "2 2\n",
      "3 0\n",
      "3 1\n",
      "3 2\n",
      "3 3\n"
     ]
    }
   ],
   "source": [
    "sequence = [1,2,0,4,6,2,1]\n",
    "total_unti1_5 = 0\n",
    "for value in sequence:\n",
    "    if value == 5:\n",
    "        break\n",
    "    total_unti1_5 += value\n",
    "\n",
    "for i in range(4):\n",
    "    for j in range(4):\n",
    "        if j > i:\n",
    "            break\n",
    "        print(i, j)\n",
    "\n",
    "x = 256\n",
    "total = 0\n",
    "while x>0:\n",
    "    if total > 500:\n",
    "        break\n",
    "    total += x\n",
    "    x = x//2"
   ]
  },
  {
   "cell_type": "code",
   "execution_count": 45,
   "metadata": {},
   "outputs": [
    {
     "data": {
      "text/plain": [
       "[99, 96, 93, 90]"
      ]
     },
     "execution_count": 45,
     "metadata": {},
     "output_type": "execute_result"
    }
   ],
   "source": [
    "range(10)\n",
    "list(range(8))\n",
    "list(range(99,89,-3))"
   ]
  },
  {
   "cell_type": "code",
   "execution_count": 14,
   "metadata": {},
   "outputs": [
    {
     "data": {
      "text/plain": [
       "['foo', 'bar', 'baz', 'peekaboo', 'dwarf', 'None']"
      ]
     },
     "execution_count": 14,
     "metadata": {},
     "output_type": "execute_result"
    }
   ],
   "source": [
    "tup = (\"foo\",\"bar\",\"baz\")\n",
    "b_list = list(tup)\n",
    "b_list\n",
    "b_list[2]= 'peekaboo'\n",
    "b_list\n",
    "b_list.append('dwarf')\n",
    "b_list\n",
    "b_list.insert(2,'red')\n",
    "b_list\n",
    "b_list.pop(2)\n",
    "b_list.append('bar')\n",
    "b_list\n",
    "b_list.remove('bar')\n",
    "b_list\n",
    "'bar' in b_list\n",
    "['foo','bar','baz'] + ['peekaboo','dwarf']\n",
    "x = ['foo','bar','baz'] + ['peekaboo','dwarf']\n",
    "x.append('None')\n",
    "x"
   ]
  },
  {
   "cell_type": "code",
   "execution_count": 19,
   "metadata": {},
   "outputs": [
    {
     "data": {
      "text/plain": [
       "['He', 'saw', 'small', 'fixes', 'seven']"
      ]
     },
     "execution_count": 19,
     "metadata": {},
     "output_type": "execute_result"
    }
   ],
   "source": [
    "a = [1,5,6,90,66]\n",
    "a.sort()\n",
    "a\n",
    "b = ['saw','small','fixes','seven','He']\n",
    "b.sort(key=len)\n",
    "b"
   ]
  },
  {
   "cell_type": "code",
   "execution_count": 27,
   "metadata": {},
   "outputs": [
    {
     "data": {
      "text/plain": [
       "[4, 5, 3, 2, 1, 7]"
      ]
     },
     "execution_count": 27,
     "metadata": {},
     "output_type": "execute_result"
    }
   ],
   "source": [
    "import bisect\n",
    "c = [1,2,2,2,3,6,7]\n",
    "bisect.bisect(c,2)\n",
    "bisect.bisect(c,9)\n",
    "sequence = [7,0,4,3,5,4]\n",
    "sequence[:3]\n",
    "sequence[1:4]\n",
    "sequence[1:4]=[1,2,3]\n",
    "sequence\n",
    "sequence[::-1]"
   ]
  },
  {
   "cell_type": "code",
   "execution_count": null,
   "metadata": {},
   "outputs": [],
   "source": []
  },
  {
   "cell_type": "code",
   "execution_count": 18,
   "metadata": {},
   "outputs": [
    {
     "name": "stdout",
     "output_type": "stream",
     "text": [
      "0 foo\n",
      "1 var\n",
      "2 bar\n",
      "3 bza\n",
      "0: foo, one\n",
      "1: bar, two\n",
      "2: vaz, three\n"
     ]
    },
    {
     "data": {
      "text/plain": [
       "['Schilling', 'Roger', 'Nolan']"
      ]
     },
     "execution_count": 18,
     "metadata": {},
     "output_type": "execute_result"
    }
   ],
   "source": [
    "some_list = ['foo','var','bar','bza']\n",
    "mapping = {}\n",
    "for i, v in enumerate(some_list):\n",
    "    mapping[i] = v\n",
    "    print(i, v)\n",
    "mapping\n",
    "sorted([1,3,6,3,7,0])\n",
    "sorted('hello  world')\n",
    "sqe1 = ['foo','bar','vaz']\n",
    "sqe2 = ['one','two','three']\n",
    "zipped = zip(sqe1, sqe2)\n",
    "list(zipped)\n",
    "sqe3 = ['go','for']\n",
    "list(zip(sqe1,sqe2,sqe3))\n",
    "for i,(a,b) in enumerate(zip(sqe1,sqe2)):\n",
    "    print('{0}: {1}, {2}'.format(i,a,b))\n",
    "\n",
    "pitchers = [('Nolan','Ryan'),('Roger','Clemens'),('Schilling','Kyle')]\n",
    "first_names, last_names = zip(*pitchers)\n",
    "first_names\n",
    "last_names\n",
    "list(reversed(first_names))\n"
   ]
  },
  {
   "cell_type": "code",
   "execution_count": null,
   "metadata": {},
   "outputs": [
    {
     "ename": "TypeError",
     "evalue": "hash() takes exactly one argument (3 given)",
     "output_type": "error",
     "traceback": [
      "\u001b[1;31m---------------------------------------------------------------------------\u001b[0m",
      "\u001b[1;31mTypeError\u001b[0m                                 Traceback (most recent call last)",
      "Cell \u001b[1;32mIn[35], line 37\u001b[0m\n\u001b[0;32m     35\u001b[0m \u001b[38;5;28mhash\u001b[39m(\u001b[38;5;124m\"\u001b[39m\u001b[38;5;124mstring\u001b[39m\u001b[38;5;124m\"\u001b[39m)\n\u001b[0;32m     36\u001b[0m \u001b[38;5;28mhash\u001b[39m((\u001b[38;5;241m1\u001b[39m,\u001b[38;5;241m2\u001b[39m,\u001b[38;5;241m3\u001b[39m,\u001b[38;5;241m4\u001b[39m,(\u001b[38;5;241m2\u001b[39m,\u001b[38;5;241m3\u001b[39m)))\n\u001b[1;32m---> 37\u001b[0m \u001b[38;5;28;43mhash\u001b[39;49m\u001b[43m(\u001b[49m\u001b[38;5;241;43m1\u001b[39;49m\u001b[43m,\u001b[49m\u001b[38;5;241;43m23\u001b[39;49m\u001b[43m,\u001b[49m\u001b[43m[\u001b[49m\u001b[38;5;241;43m2\u001b[39;49m\u001b[43m,\u001b[49m\u001b[38;5;241;43m3\u001b[39;49m\u001b[43m]\u001b[49m\u001b[43m)\u001b[49m\n",
      "\u001b[1;31mTypeError\u001b[0m: hash() takes exactly one argument (3 given)"
     ]
    }
   ],
   "source": [
    "empty_dict = {}\n",
    "d1 = {'a': 'some vaule','b': '[1,2,3,4]'}\n",
    "d1\n",
    "d1[7] = 'an interger'\n",
    "d1['a']\n",
    "d1[5]= 'some value'\n",
    "d1\n",
    "del d1[5]\n",
    "d1\n",
    "ret = d1.pop('a')\n",
    "ret\n",
    "d1\n",
    "list(d1.keys())\n",
    "list(d1.values())\n",
    "d1.update({'c':'anther word', 6: 'happy','b': 7})\n",
    "d1\n",
    "mapping = dict(zip(range(5),reversed(range(5))))\n",
    "mapping\n",
    "\n",
    "words = ['apple','bat','bar','atom','book']\n",
    "by_letter = {}\n",
    "for word in words:\n",
    "    letter = word[0]\n",
    "    if letter not in by_letter:\n",
    "        by_letter[letter] = [word]\n",
    "    else:\n",
    "        by_letter[letter].append(word)\n",
    "by_letter\n",
    "\n",
    "for word in words:\n",
    "    letter = word[0]\n",
    "    by_letter.setdefault(letter,[]).append(word)\n",
    "by_letter\n",
    "\n",
    "hash(\"string\")\n",
    "hash((1,2,3,4,(2,3)))\n",
    "hash(1,23,[2,3]) #由于列表可变，所以不能作为键\n"
   ]
  },
  {
   "cell_type": "code",
   "execution_count": 17,
   "metadata": {},
   "outputs": [
    {
     "data": {
      "text/plain": [
       "True"
      ]
     },
     "execution_count": 17,
     "metadata": {},
     "output_type": "execute_result"
    }
   ],
   "source": [
    "set([2,2,2,1,3,3])\n",
    "{2,2,2,1,3,3}\n",
    "a = {1,2,3,4,5}\n",
    "b = {3,4,5,6,7,8}\n",
    "a.union(b)\n",
    "a | b\n",
    "a.intersection(b)\n",
    "a & b\n",
    "c = a.copy()\n",
    "c |= b\n",
    "c\n",
    "d = a.copy()\n",
    "d &= b\n",
    "d.clear()\n",
    "d\n",
    "b.add(119)\n",
    "b\n",
    "a.difference(b)\n",
    "my_data = [1,2,3,4,5]\n",
    "my_set = {tuple(my_data)}\n",
    "my_set\n",
    "a_set = {1,2,3,4,5}\n",
    "{5,6,7}.issubset(a_set)\n",
    "a_set.issuperset({1,2,3})\n",
    "{1,2,3,} == {3,1,2}\n"
   ]
  },
  {
   "cell_type": "code",
   "execution_count": 33,
   "metadata": {},
   "outputs": [
    {
     "name": "stdout",
     "output_type": "stream",
     "text": [
      "BAT\n",
      "CAR\n",
      "DOVE\n",
      "PYTHON\n"
     ]
    },
    {
     "data": {
      "text/plain": [
       "[[1, 0], [2, 0], [3, 2]]"
      ]
     },
     "execution_count": 33,
     "metadata": {},
     "output_type": "execute_result"
    }
   ],
   "source": [
    "strings = ['a','as','bat','car','dove','python']\n",
    "[x.upper() for x in strings if len(x) > 2]\n",
    "result = []\n",
    "for x in strings:\n",
    "    if len(x) > 2:\n",
    "       \n",
    "        result.append(x.upper())\n",
    "        print(x.upper())\n",
    "unique_length = {len(x) for x in strings}\n",
    "unique_length\n",
    "set(map(len,strings))\n",
    "loc_mapping = {val : index for index, val in enumerate(strings)}\n",
    "loc_mapping\n",
    "\n",
    "all_data = [['john','emily','michael','mary','steven'],['maria','juan','javier','natalia','pilar']]\n",
    "names_of_interest = []\n",
    "for names in all_data:\n",
    "    enough_es = [name for name in names if name.count('e') >= 2]\n",
    "    names_of_interest.extend(enough_es)\n",
    "names_of_interest\n",
    "result = [name for names in all_data for name in names if name.count('e') >=2]\n",
    "result\n",
    "\n",
    "some_tuples = [(1,0),(2,0),(3,2)]\n",
    "flattened = [x for tup in some_tuples for x in tup]\n",
    "flattened\n",
    "flattened = []\n",
    "for tup in some_tuples:\n",
    "    for x in tup:\n",
    "        flattened.append(x)\n",
    "flattened   \n",
    "\n",
    "[[x for x in tup] for tup in some_tuples]\n"
   ]
  },
  {
   "cell_type": "code",
   "execution_count": 10,
   "metadata": {},
   "outputs": [
    {
     "name": "stdout",
     "output_type": "stream",
     "text": [
      "[]\n"
     ]
    }
   ],
   "source": [
    "# Function,函数是python中重要的组成部分，函数是实现特定功能的代码块。\n",
    "def func():\n",
    "    a = []  #本地变量（函数内变量）命名空间\n",
    "    for i in range(5):\n",
    "        a.append(i)\n",
    "        print(a)\n",
    "\n",
    "a = []  #全局变量（函数外变量）命名空间\n",
    "def func():\n",
    "    for i in range(5):\n",
    "        a.append(i)\n",
    "print(a)\n",
    "\n",
    "def f():\n",
    "    a = 4\n",
    "    b = 5\n",
    "    c = 7\n",
    "    return a,b,c\n",
    "    return {'a': a, 'b': b, 'c': c}\n",
    "a,c,b = f()\n"
   ]
  },
  {
   "cell_type": "code",
   "execution_count": 16,
   "metadata": {},
   "outputs": [
    {
     "name": "stdout",
     "output_type": "stream",
     "text": [
      "  Alababma\n",
      "Georagia\n",
      "georgia\n",
      "flOrida\n",
      "south   carolina\n",
      "West virginia\n"
     ]
    }
   ],
   "source": [
    "states  = ['  Alababma','Georagia!','georgia','flOrida','south   carolina##','West virginia?']\n",
    "\n",
    "import re\n",
    "def clean_strings(strings): \n",
    "    result = []\n",
    "    for value in strings:\n",
    "        value = value.strip()\n",
    "        value = re.sub('[!#?]','',value)\n",
    "        value = value.title()\n",
    "        result.append(value)\n",
    "    return result\n",
    "clean_strings(states)\n",
    "\n",
    "def remove_punctuation(value):\n",
    "    return re.sub('[!#?]','',value)\n",
    "\n",
    "clean_ops = [str.strip,remove_punctuation,str.title]\n",
    "\n",
    "def clean_strings(strings,ops):\n",
    "    result = []\n",
    "    for value in strings:\n",
    "        for function in ops:\n",
    "            value = function(value)\n",
    "        result.append(value)\n",
    "    return result\n",
    "clean_strings(states,clean_ops)\n",
    "\n",
    "for x in map(remove_punctuation,states):\n",
    "    print(x)"
   ]
  },
  {
   "cell_type": "code",
   "execution_count": 22,
   "metadata": {},
   "outputs": [],
   "source": [
    "# Lambda function\n",
    "def short_function(x):\n",
    "    return x * 2\n",
    "equiv_anon = lambda x : x * 2\n",
    "def apply_to_list(some_list, function):\n",
    "    return [function(x) for x in some_list]\n",
    "ints = [4,0,1,5,6]\n",
    "apply_to_list(ints,lambda x: x **2)\n",
    "\n",
    "strings = [\"foo\",\"cards\",\"var\",\"aaaa\",\"abcd\"]\n",
    "strings.sort(key= lambda x : len(set(list(x))))\n",
    "strings\n",
    "\n",
    "def add_numbers(x,y):\n",
    "    return x +y\n",
    "add_five = lambda x : add_numbers(5, y) #Curry function.\n",
    "\n",
    "from functools import partial\n",
    "add_five = partial(add_numbers, 5)\n"
   ]
  },
  {
   "cell_type": "code",
   "execution_count": 2,
   "metadata": {},
   "outputs": [
    {
     "name": "stdout",
     "output_type": "stream",
     "text": [
      "a\n",
      "b\n",
      "c\n",
      "A ['Alan', 'Adam']\n",
      "W ['Wallace']\n",
      "A ['Absalom']\n",
      "W ['Will', 'Wes']\n"
     ]
    }
   ],
   "source": [
    "some_dict = {'a': 1, 'b': 2, 'c': 3}\n",
    "for key in some_dict:\n",
    "    print(key)\n",
    "dict_iterator = iter(some_dict)\n",
    "dict_iterator\n",
    "list(dict_iterator)\n",
    "\n",
    "gen = (x ** 2 for x in range(30))\n",
    "gen\n",
    "def _make_gen():\n",
    "    for x in range(30):\n",
    "        yield x ** 2\n",
    "gen = _make_gen()\n",
    "\n",
    "sum(x ** 2 for x in range(200))\n",
    "dict((i, i ** 2) for i in range(5))\n",
    "\n",
    "import itertools\n",
    "first_letter = lambda x: x[0]\n",
    "names = ['Alan', 'Adam', 'Wallace', 'Absalom','Will','Wes']\n",
    "for letter,names in itertools.groupby(names,first_letter):\n",
    "    print(letter,list(names))  # names is a generator"
   ]
  },
  {
   "cell_type": "code",
   "execution_count": 10,
   "metadata": {},
   "outputs": [
    {
     "name": "stdout",
     "output_type": "stream",
     "text": [
      "Failed\n"
     ]
    }
   ],
   "source": [
    "float('1.2345')\n",
    "def attempt_float(s):\n",
    "    try:\n",
    "        return float(s)\n",
    "    except (ValueError, TypeError):\n",
    "        return s\n",
    "attempt_float('something')\n",
    "\n",
    "path  = 'test.txt'\n",
    "f = open(path,'w')\n",
    "try:\n",
    "    write_to_file(f)\n",
    "except:\n",
    "    print('Failed')\n",
    "else:\n",
    "    print('Succeeded')\n",
    "finally:\n",
    "    f.close()\n",
    "\n"
   ]
  },
  {
   "cell_type": "code",
   "execution_count": 16,
   "metadata": {},
   "outputs": [
    {
     "name": "stderr",
     "output_type": "stream",
     "text": [
      "<>:1: SyntaxWarning: invalid escape sequence '\\J'\n",
      "<>:1: SyntaxWarning: invalid escape sequence '\\J'\n",
      "C:\\Users\\lenovo\\AppData\\Local\\Temp\\ipykernel_42004\\4097005460.py:1: SyntaxWarning: invalid escape sequence '\\J'\n",
      "  path = '神经网络\\JupyterNote\\test.txt'\n"
     ]
    },
    {
     "ename": "FileNotFoundError",
     "evalue": "[Errno 2] No such file or directory: '神经网络\\\\JupyterNote\\test.txt'",
     "output_type": "error",
     "traceback": [
      "\u001b[1;31m---------------------------------------------------------------------------\u001b[0m",
      "\u001b[1;31mFileNotFoundError\u001b[0m                         Traceback (most recent call last)",
      "Cell \u001b[1;32mIn[16], line 2\u001b[0m\n\u001b[0;32m      1\u001b[0m path \u001b[38;5;241m=\u001b[39m \u001b[38;5;124m'\u001b[39m\u001b[38;5;124m神经网络\u001b[39m\u001b[38;5;124m\\\u001b[39m\u001b[38;5;124mJupyterNote\u001b[39m\u001b[38;5;130;01m\\t\u001b[39;00m\u001b[38;5;124mest.txt\u001b[39m\u001b[38;5;124m'\u001b[39m\n\u001b[1;32m----> 2\u001b[0m f \u001b[38;5;241m=\u001b[39m \u001b[38;5;28;43mopen\u001b[39;49m\u001b[43m(\u001b[49m\u001b[43mpath\u001b[49m\u001b[43m)\u001b[49m\n\u001b[0;32m      3\u001b[0m \u001b[38;5;28;01mfor\u001b[39;00m line \u001b[38;5;129;01min\u001b[39;00m f:\n\u001b[0;32m      4\u001b[0m     \u001b[38;5;28;01mpass\u001b[39;00m\n",
      "File \u001b[1;32mc:\\Users\\lenovo\\Desktop\\python_project\\env\\Lib\\site-packages\\IPython\\core\\interactiveshell.py:324\u001b[0m, in \u001b[0;36m_modified_open\u001b[1;34m(file, *args, **kwargs)\u001b[0m\n\u001b[0;32m    317\u001b[0m \u001b[38;5;28;01mif\u001b[39;00m file \u001b[38;5;129;01min\u001b[39;00m {\u001b[38;5;241m0\u001b[39m, \u001b[38;5;241m1\u001b[39m, \u001b[38;5;241m2\u001b[39m}:\n\u001b[0;32m    318\u001b[0m     \u001b[38;5;28;01mraise\u001b[39;00m \u001b[38;5;167;01mValueError\u001b[39;00m(\n\u001b[0;32m    319\u001b[0m         \u001b[38;5;124mf\u001b[39m\u001b[38;5;124m\"\u001b[39m\u001b[38;5;124mIPython won\u001b[39m\u001b[38;5;124m'\u001b[39m\u001b[38;5;124mt let you open fd=\u001b[39m\u001b[38;5;132;01m{\u001b[39;00mfile\u001b[38;5;132;01m}\u001b[39;00m\u001b[38;5;124m by default \u001b[39m\u001b[38;5;124m\"\u001b[39m\n\u001b[0;32m    320\u001b[0m         \u001b[38;5;124m\"\u001b[39m\u001b[38;5;124mas it is likely to crash IPython. If you know what you are doing, \u001b[39m\u001b[38;5;124m\"\u001b[39m\n\u001b[0;32m    321\u001b[0m         \u001b[38;5;124m\"\u001b[39m\u001b[38;5;124myou can use builtins\u001b[39m\u001b[38;5;124m'\u001b[39m\u001b[38;5;124m open.\u001b[39m\u001b[38;5;124m\"\u001b[39m\n\u001b[0;32m    322\u001b[0m     )\n\u001b[1;32m--> 324\u001b[0m \u001b[38;5;28;01mreturn\u001b[39;00m \u001b[43mio_open\u001b[49m\u001b[43m(\u001b[49m\u001b[43mfile\u001b[49m\u001b[43m,\u001b[49m\u001b[43m \u001b[49m\u001b[38;5;241;43m*\u001b[39;49m\u001b[43margs\u001b[49m\u001b[43m,\u001b[49m\u001b[43m \u001b[49m\u001b[38;5;241;43m*\u001b[39;49m\u001b[38;5;241;43m*\u001b[39;49m\u001b[43mkwargs\u001b[49m\u001b[43m)\u001b[49m\n",
      "\u001b[1;31mFileNotFoundError\u001b[0m: [Errno 2] No such file or directory: '神经网络\\\\JupyterNote\\test.txt'"
     ]
    }
   ],
   "source": [
    "path = '神经网络\\JupyterNote\\test.txt'\n",
    "f = open(path)\n",
    "for line in f:\n",
    "    pass\n",
    "lines = [x.rstrip() for x in open(path)]\n",
    "lines\n",
    "\n",
    "with open(path) as f:\n",
    "    lines = [x.rstrip() for x in f] # 读取文件，并去掉换行符,with 语句适用于对资源进行访问的场合，确保不管使用过程中是否发生异常都会执行必要的“清理”操作，释放资源。"
   ]
  },
  {
   "cell_type": "code",
   "execution_count": 20,
   "metadata": {},
   "outputs": [
    {
     "name": "stdout",
     "output_type": "stream",
     "text": [
      "CPU times: total: 31.2 ms\n",
      "Wall time: 26 ms\n",
      "CPU times: total: 172 ms\n",
      "Wall time: 395 ms\n"
     ]
    },
    {
     "data": {
      "text/plain": [
       "array([ 0,  1,  2,  3,  4,  5,  6,  7,  8,  9, 10, 11, 12, 13, 14, 15])"
      ]
     },
     "execution_count": 20,
     "metadata": {},
     "output_type": "execute_result"
    }
   ],
   "source": [
    "# 第四章 NuPy 基础：数组与向量化计算\n",
    "\n",
    "import numpy as np\n",
    "my_arr = np.arange(1000000)\n",
    "my_list = list(range(1000000))\n",
    "%time for _ in range(10): my_arr2 = my_arr * 2  # 数组计算\n",
    "%time for _ in range(10): my_list2 = [x * 2 for x in my_list] # 列表生成式\n",
    "# 通过上述两个例子，我们可以看出，数组计算要比列表生成式快很多。而且数组不需要使用for循环，直接通过数组运算即可完成。\n",
    "\n",
    "#NumPy ndarry: 多维数组对象\n",
    "import numpy as np\n",
    "data = np.random.randn(2, 3) # 生成一个2行3列的随机数组\n",
    "data\n",
    "data * 10\n",
    "data + data\n",
    "data.shape\n",
    "data.dtype\n",
    "\n",
    "data2 = [6,7.5,8,0,1]\n",
    "arr1 = np.array(data2)  # 将上述列表转换为数组，用np.array()函数,array is range 的数组版\n",
    "arr1\n",
    "data1 = [[1,2,3],[4,5,6]]\n",
    "arr2 = np.array(data1)  # 将上述列表转换为多维数组，用np.array()函数自动识别\n",
    "arr2\n",
    "arr2.shape\n",
    "arr2.ndim\n",
    "arr1.dtype\n",
    "arr2.dtype\n",
    "\n",
    "np.zeros(10) # 生成10个0的数组\n",
    "np.zeros((3 ,6)) # 生成3行6列的0数组\n",
    "np.empty((2 ,3,2)) # 生成一个随机数组，数值未定义\n",
    "np.arange(16) # 生成0-15的数组"
   ]
  },
  {
   "cell_type": "code",
   "execution_count": 12,
   "metadata": {},
   "outputs": [
    {
     "data": {
      "text/plain": [
       "array([   4128860,    6029375,    3801155,    5570652,    6619251,\n",
       "          7536754, 3435593728,     393662], dtype=uint32)"
      ]
     },
     "execution_count": 12,
     "metadata": {},
     "output_type": "execute_result"
    }
   ],
   "source": [
    "# ndarray 数据类型 dytpe\n",
    "import numpy as np\n",
    "arr1 = np.array([1,2,3],dtype=np.float64)\n",
    "arr2 = np.array([1,2,3],dtype=np.int32)\n",
    "arr1.dtype\n",
    "arr2.dtype\n",
    "arr = np.array([1,2,3,4,5])\n",
    "arr.dtype\n",
    "float_arr = arr.astype(np.float64)\n",
    "float_arr.dtype\n",
    "arr = np.array([3.7,-1.2,-2.6,0.5,12.9,10.1])\n",
    "arr\n",
    "arr.astype(np.int32) # 截断小数点后面的数字\n",
    "numeric_strings = np.array(['1.25','-9.6','42'],dtype=np.bytes_)\n",
    "numeric_strings.astype(float)\n",
    "\n",
    "int_array = np.arange(10)\n",
    "calibers = np.array([.22,.270,.357,.380,.44,.50],dtype=np.float64)\n",
    "int_array.astype(calibers.dtype)\n",
    "\n",
    "empty_uint32 = np.empty(8, dtype='u4')\n",
    "empty_uint32\n",
    "\n"
   ]
  },
  {
   "cell_type": "code",
   "execution_count": null,
   "metadata": {},
   "outputs": [
    {
     "data": {
      "text/plain": [
       "array([7, 8, 9])"
      ]
     },
     "execution_count": 37,
     "metadata": {},
     "output_type": "execute_result"
    }
   ],
   "source": [
    "#Numpy 的数组算术，批量操作且不必for循环，此为向量化运算。逐元素操作。\n",
    "arr = np.array([[1.,2.,3.],[4.,5.,6.]])\n",
    "arr\n",
    "arr * arr\n",
    "arr - arr\n",
    "1 / arr\n",
    "arr ** 0.5\n",
    "\n",
    "arr2 = np.array([[0.,4.,1.],[7.,2.,12.]])\n",
    "arr2\n",
    "arr2 > arr #产生布尔型数组，也是逐元素操作\n",
    "\n",
    "# Numpy 数组的基础索引和切片操作\n",
    "arr = np.arange(10)  #一维数组的操作与列表类似\n",
    "arr\n",
    "arr[5]\n",
    "arr[5:8]  \n",
    "arr[5:8] = 10 # 切片赋值,直接修改原数组而非复制或者创建新数组\n",
    "arr\n",
    "arr_slice = arr[5:8]\n",
    "arr_slice\n",
    "arr_slice[1] = 12345 # 修改切片值，原数组也会相应改变\n",
    "arr\n",
    "arr_slice[:] = 64\n",
    "arr\n",
    "\n",
    "arr2d = np.array([[1,2,3],[4,5,6],[7,8,9]]) # 二维数组，返回的是数组对象，一维数组\n",
    "arr2d[2]\n",
    "arr2d[0][2]\n",
    "arr2d[0,2]\n",
    "\n",
    "arr3d = np.array([[[1,2,3],[4,5,6]],[[7,8,9],[10,11,12]]])  #三维数组\n",
    "arr3d\n",
    "arr3d[0] # 返回的是二维数组对象\n",
    "old_values = arr3d[0].copy() # 复制数组\n",
    "arr3d[0] = 42\n",
    "arr3d\n",
    "arr3d[0] = old_values # 恢复数组\n",
    "arr3d\n",
    "arr3d[1,0]  #返回的一维数组对象"
   ]
  }
 ],
 "metadata": {
  "kernelspec": {
   "display_name": "env",
   "language": "python",
   "name": "python3"
  },
  "language_info": {
   "codemirror_mode": {
    "name": "ipython",
    "version": 3
   },
   "file_extension": ".py",
   "mimetype": "text/x-python",
   "name": "python",
   "nbconvert_exporter": "python",
   "pygments_lexer": "ipython3",
   "version": "3.12.7"
  }
 },
 "nbformat": 4,
 "nbformat_minor": 2
}
