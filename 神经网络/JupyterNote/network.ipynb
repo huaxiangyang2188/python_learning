{
 "cells": [
  {
   "cell_type": "code",
   "execution_count": 2,
   "metadata": {},
   "outputs": [],
   "source": [
    "# python notebook for Make Your Own Neural Network\n",
    "# code for a 3-layer neural network, and code for learning the MINIST dataset\n",
    "#(c) Triq Rashid,2016\n",
    "# license is GPLv2\n",
    "# 神经网络需要接受一些输入，进行一些计算并产生输出。我们可以训练神经网络，\n",
    "#你可以看到，这些动作、训练和生成的答案，是神经网络的原生函数。\n",
    "import numpy\n",
    "# scipy.special for the sigmoid function\n",
    "import scipy.special\n",
    "# library for plotting arrays\n",
    "import matplotlib.pyplot\n",
    "\n",
    "# ensure the plots are inside this notebook,not an external window\n",
    "%matplotlib inline\n",
    "# neural network class definition\n",
    "class NeuralNetwork:\n",
    "    # initialise the neural network\n",
    "    def __init__(self, inputnodes, hiddennodes, outputnodes, learningrate):\n",
    "        # set number of nodes in each input,hidden,output layeer\n",
    "        self.inodes = inputnodes\n",
    "        self.hnodes = hiddennodes\n",
    "        self.onodes = outputnodes\n",
    "# link weight matrices,Wih and Who(weights between hidden and output layers)\n",
    "# weights inside the arrays are w_i_j, where link is from node i to node j in the next layer\n",
    "# w11 w21\n",
    "# w12 w22 etc,由于需要的随机矩阵，而不是单个数字，因此采取分布中心值、标准方差和numpy数组的大小作为参数。\n",
    "        self.wih = numpy.random.normal(0.0,pow(self.hnodes,0.5),(self.hnodes,self.inodes))\n",
    "        self.who = numpy.random.normal(0.0,pow(self.onodes,0.5),(self.onodes,self.hnodes)) \n",
    "        # set the learning rate\n",
    "        self.ir = learningrate\n",
    "# activation function is the sigmoid function\n",
    "# 下列使用了lambda表达式，它是一个匿名函数。\n",
    "        self.activation_function = lambda x:scipy.special.expit(x)\n",
    "\n",
    "        # train the neural network训练过程有两个阶段，一、计算输出阶段；\n",
    "        # 二、反向传播误差阶段，优化权重。\n",
    "    def train(self,inputs_list, targets_list):\n",
    "        # convert inputs list to 2d array\n",
    "        inputs = numpy.array(inputs_list,ndmin=2).T\n",
    "        targets = numpy.array(targets_list,ndmin=2).T\n",
    "        # calculate signals into hidden layer\n",
    "        hidden_inputs = numpy.dot(self.wih,inputs)\n",
    "        # calculate the signals emerging from hidden layer\n",
    "        hidden_outputs = self.activation_function(hidden_inputs)\n",
    "        # calculate signals into final output layer\n",
    "        final_inputs = numpy.dot(self.who,hidden_outputs)\n",
    "        # calculate the signals emerging from final output layer\n",
    "        final_outputs = self.activation_function(final_inputs)\n",
    "        # output layer error is the target minus actual\n",
    "        output_errors = targets - final_outputs  #处理隐蔽层和最终层之间的权重。\n",
    "        # hidden layer error is the output_errors, split by weights, recombined at hidden nodes\n",
    "        hidden_errors = numpy.dot(self.who.T, output_errors)  #处理输入层和隐藏层之间的权重。\n",
    "        # update the weights for the links between the hidden and output layers\n",
    "        self.who += self.ir*numpy.dot(output_errors*final_outputs*(1.0- final_outputs),numpy.transpose(hidden_outputs))\n",
    "        # update the weights for the links between the input and hidden layers\n",
    "        self.wih += self.ir*numpy.dot(hidden_errors*hidden_outputs*(1.0- hidden_outputs), numpy.transpose(inputs))\n",
    "\n",
    "        #query the neural network\n",
    "    def query(self, inputs_list):\n",
    "    \n",
    "    # convert inputs list to 2d array\n",
    "        inputs = numpy.array(inputs_list, ndmin=2).T\n",
    "    # calculate signals into hidden layer\n",
    "        hidden_inputs = numpy.dot(self.wih,inputs)\n",
    "    # calculate the signals emerging from hidden layer\n",
    "        hidden_outputs = self.activation_function(hidden_inputs)\n",
    "    # calculate signals into final output layer\n",
    "        final_inputs = numpy.dot(self.who,hidden_outputs) \n",
    "    # calculate the signals emerging from final output layer\n",
    "        final_outputs = self.activation_function(final_inputs)\n",
    "        return final_outputs"
   ]
  },
  {
   "cell_type": "code",
   "execution_count": 13,
   "metadata": {},
   "outputs": [
    {
     "ename": "TypeError",
     "evalue": "ufunc 'divide' not supported for the input types, and the inputs could not be safely coerced to any supported types according to the casting rule ''safe''",
     "output_type": "error",
     "traceback": [
      "\u001b[1;31m---------------------------------------------------------------------------\u001b[0m",
      "\u001b[1;31mTypeError\u001b[0m                                 Traceback (most recent call last)",
      "Cell \u001b[1;32mIn[13], line 26\u001b[0m\n\u001b[0;32m     23\u001b[0m all_values\u001b[38;5;241m=\u001b[39mrecord\u001b[38;5;241m.\u001b[39msplit(\u001b[38;5;124m'\u001b[39m\u001b[38;5;124m,\u001b[39m\u001b[38;5;124m'\u001b[39m)\n\u001b[0;32m     24\u001b[0m \u001b[38;5;66;03m# scale and shift the inputs\u001b[39;00m\n\u001b[0;32m     25\u001b[0m \u001b[38;5;66;03m# inputs=(numpy.asarray(all_values[1:]) / 255.0 * 0.99 ) + 0.01\u001b[39;00m\n\u001b[1;32m---> 26\u001b[0m \u001b[38;5;28minput\u001b[39m \u001b[38;5;241m=\u001b[39m \u001b[43mnumpy\u001b[49m\u001b[38;5;241;43m.\u001b[39;49m\u001b[43masarray\u001b[49m\u001b[43m(\u001b[49m\u001b[43mall_values\u001b[49m\u001b[43m[\u001b[49m\u001b[38;5;241;43m1\u001b[39;49m\u001b[43m:\u001b[49m\u001b[43m]\u001b[49m\u001b[43m)\u001b[49m\u001b[43m \u001b[49m\u001b[38;5;241;43m/\u001b[39;49m\u001b[43m \u001b[49m\u001b[38;5;241;43m255.0\u001b[39;49m \u001b[38;5;241m*\u001b[39m \u001b[38;5;241m0.99\u001b[39m \u001b[38;5;241m+\u001b[39m \u001b[38;5;241m0.01\u001b[39m\n\u001b[0;32m     27\u001b[0m \u001b[38;5;66;03m# create the target output values (all 0.01,except the desired label which is 0.99)\u001b[39;00m\n\u001b[0;32m     28\u001b[0m targets \u001b[38;5;241m=\u001b[39m numpy\u001b[38;5;241m.\u001b[39mzeros(output_nodes)\u001b[38;5;241m+\u001b[39m\u001b[38;5;241m0.01\u001b[39m\n",
      "\u001b[1;31mTypeError\u001b[0m: ufunc 'divide' not supported for the input types, and the inputs could not be safely coerced to any supported types according to the casting rule ''safe''"
     ]
    }
   ],
   "source": [
    "# number of input,hidden and output nodes\n",
    "input_nodes = 784\n",
    "hidden_nodes = 200\n",
    "output_nodes = 10\n",
    "\n",
    "# learning rate is 0.3\n",
    "learning_rate = 0.1\n",
    "\n",
    "# create instance of neural network\n",
    "n = NeuralNetwork(input_nodes,hidden_nodes,output_nodes, learning_rate)\n",
    "# load the mnist training data CSV file into a list\n",
    "training_data_file = open(r\"C:\\Users\\lenovo\\Desktop\\python_project\\神经网络\\mnist_test.csv\",'r')\n",
    "training_data_list = training_data_file.readlines()\n",
    "training_data_file.close()\n",
    "# train the neural network\n",
    "# epochs is the number of times the training data set is used for training\n",
    "epochs = 5\n",
    "for e in range(epochs): \n",
    "\n",
    "# go through all the records in the training data set\n",
    "    for record in training_data_list:\n",
    "        #split the record by the ',' commas\n",
    "        all_values=record.split(',')\n",
    "        # scale and shift the inputs\n",
    "        # inputs=(numpy.asarray(all_values[1:]) / 255.0 * 0.99 ) + 0.01\n",
    "        input = numpy.asarray(all_values[1:]) / 255.0 * 0.99 + 0.01\n",
    "        # create the target output values (all 0.01,except the desired label which is 0.99)\n",
    "        targets = numpy.zeros(output_nodes)+0.01\n",
    "        # all_values[0] is the target label for this record\n",
    "        targets[int(all_values[0])] = 0.99\n",
    "        n.train(inputs,targets)\n",
    "    \n",
    "    pass\n"
   ]
  },
  {
   "cell_type": "code",
   "execution_count": 14,
   "metadata": {},
   "outputs": [
    {
     "ename": "FileNotFoundError",
     "evalue": "[Errno 2] No such file or directory: 'mnist_dataset/mnist_test_10.csv'",
     "output_type": "error",
     "traceback": [
      "\u001b[1;31m---------------------------------------------------------------------------\u001b[0m",
      "\u001b[1;31mFileNotFoundError\u001b[0m                         Traceback (most recent call last)",
      "Cell \u001b[1;32mIn[14], line 2\u001b[0m\n\u001b[0;32m      1\u001b[0m \u001b[38;5;66;03m# load the mnist test data CSV file into a list\u001b[39;00m\n\u001b[1;32m----> 2\u001b[0m test_data_file \u001b[38;5;241m=\u001b[39m \u001b[38;5;28;43mopen\u001b[39;49m\u001b[43m(\u001b[49m\u001b[38;5;124;43m\"\u001b[39;49m\u001b[38;5;124;43mmnist_dataset/mnist_test_10.csv\u001b[39;49m\u001b[38;5;124;43m\"\u001b[39;49m\u001b[43m,\u001b[49m\u001b[38;5;124;43m'\u001b[39;49m\u001b[38;5;124;43mr\u001b[39;49m\u001b[38;5;124;43m'\u001b[39;49m\u001b[43m)\u001b[49m\n\u001b[0;32m      3\u001b[0m test_data_list \u001b[38;5;241m=\u001b[39m test_data_file\u001b[38;5;241m.\u001b[39mreadlines()\n\u001b[0;32m      4\u001b[0m test_data_file\u001b[38;5;241m.\u001b[39mclose()\n",
      "File \u001b[1;32mc:\\Users\\lenovo\\Desktop\\python_project\\env\\Lib\\site-packages\\IPython\\core\\interactiveshell.py:324\u001b[0m, in \u001b[0;36m_modified_open\u001b[1;34m(file, *args, **kwargs)\u001b[0m\n\u001b[0;32m    317\u001b[0m \u001b[38;5;28;01mif\u001b[39;00m file \u001b[38;5;129;01min\u001b[39;00m {\u001b[38;5;241m0\u001b[39m, \u001b[38;5;241m1\u001b[39m, \u001b[38;5;241m2\u001b[39m}:\n\u001b[0;32m    318\u001b[0m     \u001b[38;5;28;01mraise\u001b[39;00m \u001b[38;5;167;01mValueError\u001b[39;00m(\n\u001b[0;32m    319\u001b[0m         \u001b[38;5;124mf\u001b[39m\u001b[38;5;124m\"\u001b[39m\u001b[38;5;124mIPython won\u001b[39m\u001b[38;5;124m'\u001b[39m\u001b[38;5;124mt let you open fd=\u001b[39m\u001b[38;5;132;01m{\u001b[39;00mfile\u001b[38;5;132;01m}\u001b[39;00m\u001b[38;5;124m by default \u001b[39m\u001b[38;5;124m\"\u001b[39m\n\u001b[0;32m    320\u001b[0m         \u001b[38;5;124m\"\u001b[39m\u001b[38;5;124mas it is likely to crash IPython. If you know what you are doing, \u001b[39m\u001b[38;5;124m\"\u001b[39m\n\u001b[0;32m    321\u001b[0m         \u001b[38;5;124m\"\u001b[39m\u001b[38;5;124myou can use builtins\u001b[39m\u001b[38;5;124m'\u001b[39m\u001b[38;5;124m open.\u001b[39m\u001b[38;5;124m\"\u001b[39m\n\u001b[0;32m    322\u001b[0m     )\n\u001b[1;32m--> 324\u001b[0m \u001b[38;5;28;01mreturn\u001b[39;00m \u001b[43mio_open\u001b[49m\u001b[43m(\u001b[49m\u001b[43mfile\u001b[49m\u001b[43m,\u001b[49m\u001b[43m \u001b[49m\u001b[38;5;241;43m*\u001b[39;49m\u001b[43margs\u001b[49m\u001b[43m,\u001b[49m\u001b[43m \u001b[49m\u001b[38;5;241;43m*\u001b[39;49m\u001b[38;5;241;43m*\u001b[39;49m\u001b[43mkwargs\u001b[49m\u001b[43m)\u001b[49m\n",
      "\u001b[1;31mFileNotFoundError\u001b[0m: [Errno 2] No such file or directory: 'mnist_dataset/mnist_test_10.csv'"
     ]
    }
   ],
   "source": [
    "# load the mnist test data CSV file into a list\n",
    "test_data_file = open(\"mnist_dataset/mnist_test_10.csv\",'r')\n",
    "test_data_list = test_data_file.readlines()\n",
    "test_data_file.close()\n",
    "#test the neural network\n",
    "\n",
    "# scorecard for how well the network performs , initially empty\n",
    "scorecard = []\n",
    "# go through all the records in the test data set\n",
    "for record in test_data_list:\n",
    "    # split the record by the ',' commas\n",
    "    all_values=record.split(',')\n",
    "    # correct answer is first value in the list\n",
    "    correct_label = int(all_values[0])\n",
    "    print(correct_label,\"correct label\")\n",
    "    # scale and shift the inputs\n",
    "    inputs=(numpy.array(all_values[1:]) / 255.0 * 0.99 ) + 0.01\n",
    "    # query the network\n",
    "    outputs = n.query(inputs)\n",
    "    # the index of the highest output value corresponds to the label\n",
    "    label = numpy.argmax(outputs)\n",
    "    print(label,\"network's answer\")\n",
    "    # append correct or incorrect to list\n",
    "    if label == correct_label:\n",
    "        # network's answer matches correct answer, add 1 to the scorecard\n",
    "        scorecard.append(1)\n",
    "    else:\n",
    "        # network's answer doesn't match correct answer, add 0 to the scorecard\n",
    "        scorecard.append(0)\n",
    "        pass\n",
    "    pass\n",
    "# calculate the performance score, the fraction of correct answers\n",
    "scorecard_array = numpy.asarray(scorecard)\n",
    "print(\"performance = \", scorecard_array.sum()/scorecard_array.size)\n"
   ]
  },
  {
   "cell_type": "code",
   "execution_count": 4,
   "metadata": {},
   "outputs": [
    {
     "data": {
      "text/plain": [
       "array([[ 0.29353831,  0.4026061 , -0.25910404],\n",
       "       [ 0.43873748, -0.2834097 , -0.27633872],\n",
       "       [-0.48187249,  0.26218442, -0.01177016]])"
      ]
     },
     "execution_count": 4,
     "metadata": {},
     "output_type": "execute_result"
    }
   ],
   "source": [
    "import numpy\n",
    "numpy.random.rand(3,3) - 0.5\n"
   ]
  }
 ],
 "metadata": {
  "kernelspec": {
   "display_name": "env",
   "language": "python",
   "name": "python3"
  },
  "language_info": {
   "codemirror_mode": {
    "name": "ipython",
    "version": 3
   },
   "file_extension": ".py",
   "mimetype": "text/x-python",
   "name": "python",
   "nbconvert_exporter": "python",
   "pygments_lexer": "ipython3",
   "version": "3.12.7"
  }
 },
 "nbformat": 4,
 "nbformat_minor": 2
}
